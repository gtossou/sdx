{
 "cells": [
  {
   "cell_type": "markdown",
   "metadata": {},
   "source": [
    "## Import libraries"
   ]
  },
  {
   "cell_type": "code",
   "execution_count": 1,
   "metadata": {
    "collapsed": false
   },
   "outputs": [],
   "source": [
    "import findspark\n",
    "import pandas as pd\n",
    "findspark.init(\"/opt/spark-2.4.0\")\n",
    "from pyspark.sql.functions import *\n",
    "from pyspark.ml.clustering import KMeans\n",
    "from pyspark.ml.feature import VectorAssembler\n",
    "from pyspark.sql.types import FloatType"
   ]
  },
  {
   "cell_type": "markdown",
   "metadata": {},
   "source": [
    "## Create Spark Session"
   ]
  },
  {
   "cell_type": "code",
   "execution_count": 2,
   "metadata": {
    "collapsed": false
   },
   "outputs": [],
   "source": [
    "from pyspark.sql import SparkSession\n",
    "spark = SparkSession \\\n",
    "    .builder \\\n",
    "    .appName(\"example_sdx\") \\\n",
    "    .getOrCreate()"
   ]
  },
  {
   "cell_type": "code",
   "execution_count": 3,
   "metadata": {
    "collapsed": false,
    "scrolled": false
   },
   "outputs": [
    {
     "data": {
      "text/html": [
       "\n",
       "            <div>\n",
       "                <p><b>SparkSession - in-memory</b></p>\n",
       "                \n",
       "        <div>\n",
       "            <p><b>SparkContext</b></p>\n",
       "\n",
       "            <p><a href=\"http://vps621558.ovh.net:4040\">Spark UI</a></p>\n",
       "\n",
       "            <dl>\n",
       "              <dt>Version</dt>\n",
       "                <dd><code>v2.4.0</code></dd>\n",
       "              <dt>Master</dt>\n",
       "                <dd><code>local[*]</code></dd>\n",
       "              <dt>AppName</dt>\n",
       "                <dd><code>example_sdx</code></dd>\n",
       "            </dl>\n",
       "        </div>\n",
       "        \n",
       "            </div>\n",
       "        "
      ],
      "text/plain": [
       "<pyspark.sql.session.SparkSession at 0x7fc1b69dae10>"
      ]
     },
     "execution_count": 3,
     "metadata": {},
     "output_type": "execute_result"
    }
   ],
   "source": [
    "spark"
   ]
  },
  {
   "cell_type": "markdown",
   "metadata": {},
   "source": [
    "## Load data"
   ]
  },
  {
   "cell_type": "code",
   "execution_count": 4,
   "metadata": {
    "collapsed": true
   },
   "outputs": [],
   "source": [
    "brisbane = spark.read.option(\"multiline\", \"true\").json(\"/Brisbane_CityBike.json\")"
   ]
  },
  {
   "cell_type": "code",
   "execution_count": 5,
   "metadata": {
    "collapsed": false,
    "scrolled": true
   },
   "outputs": [
    {
     "name": "stdout",
     "output_type": "stream",
     "text": [
      "root\n",
      " |-- address: string (nullable = true)\n",
      " |-- coordinates: struct (nullable = true)\n",
      " |    |-- latitude: double (nullable = true)\n",
      " |    |-- longitude: double (nullable = true)\n",
      " |-- id: double (nullable = true)\n",
      " |-- latitude: string (nullable = true)\n",
      " |-- longitude: string (nullable = true)\n",
      " |-- name: string (nullable = true)\n",
      " |-- position: string (nullable = true)\n",
      "\n"
     ]
    }
   ],
   "source": [
    "brisbane.printSchema()"
   ]
  },
  {
   "cell_type": "code",
   "execution_count": 6,
   "metadata": {
    "collapsed": false,
    "scrolled": true
   },
   "outputs": [
    {
     "data": {
      "text/plain": [
       "150"
      ]
     },
     "execution_count": 6,
     "metadata": {},
     "output_type": "execute_result"
    }
   ],
   "source": [
    "brisbane.count()"
   ]
  },
  {
   "cell_type": "code",
   "execution_count": 7,
   "metadata": {
    "collapsed": false,
    "scrolled": false
   },
   "outputs": [
    {
     "name": "stdout",
     "output_type": "stream",
     "text": [
      "+--------------------+--------------------+----+----------+---------+--------------------+--------+\n",
      "|             address|         coordinates|  id|  latitude|longitude|                name|position|\n",
      "+--------------------+--------------------+----+----------+---------+--------------------+--------+\n",
      "|Albert St Mall / ...|                null|12.0|-27.468963|153.02461|12 - ALBERT ST MA...|    null|\n",
      "|Gardens Point Rd ...|[-27.479004, 153....|19.0|      null|     null|19 - GARDENS POIN...|    null|\n",
      "+--------------------+--------------------+----+----------+---------+--------------------+--------+\n",
      "\n"
     ]
    }
   ],
   "source": [
    "brisbane.where(brisbane.id.isin([19,12])).show()"
   ]
  },
  {
   "cell_type": "markdown",
   "metadata": {},
   "source": [
    "# Data Quality"
   ]
  },
  {
   "cell_type": "markdown",
   "metadata": {},
   "source": [
    "## Fill lat-lon with coordinates(lat-lon) if null"
   ]
  },
  {
   "cell_type": "code",
   "execution_count": 8,
   "metadata": {
    "collapsed": false
   },
   "outputs": [],
   "source": [
    "brisbane=brisbane.withColumn(\"latitude\", when(brisbane.latitude.isNull(),brisbane.coordinates.latitude) \\\n",
    "    .otherwise(brisbane.latitude)) \\\n",
    "    .withColumn(\"longitude\", when(brisbane.longitude.isNull(),brisbane.coordinates.longitude) \\\n",
    "    .otherwise(brisbane.longitude))\n",
    "            "
   ]
  },
  {
   "cell_type": "code",
   "execution_count": 9,
   "metadata": {
    "collapsed": false,
    "scrolled": false
   },
   "outputs": [
    {
     "name": "stdout",
     "output_type": "stream",
     "text": [
      "+--------------------+--------------------+----+----------+----------+--------------------+--------+\n",
      "|             address|         coordinates|  id|  latitude| longitude|                name|position|\n",
      "+--------------------+--------------------+----+----------+----------+--------------------+--------+\n",
      "|Albert St Mall / ...|                null|12.0|-27.468963| 153.02461|12 - ALBERT ST MA...|    null|\n",
      "|Gardens Point Rd ...|[-27.479004, 153....|19.0|-27.479004|153.028853|19 - GARDENS POIN...|    null|\n",
      "+--------------------+--------------------+----+----------+----------+--------------------+--------+\n",
      "\n"
     ]
    }
   ],
   "source": [
    "brisbane.where(brisbane.id.isin([19,12])).show()"
   ]
  },
  {
   "cell_type": "markdown",
   "metadata": {},
   "source": [
    "## Get rid of lat-lon still null"
   ]
  },
  {
   "cell_type": "code",
   "execution_count": 10,
   "metadata": {
    "collapsed": false
   },
   "outputs": [],
   "source": [
    "coords_subset=brisbane.where(brisbane.latitude.isNotNull()).where(brisbane.longitude.isNotNull()).select(brisbane.id,brisbane.latitude,brisbane.longitude)"
   ]
  },
  {
   "cell_type": "code",
   "execution_count": 11,
   "metadata": {
    "collapsed": false
   },
   "outputs": [
    {
     "data": {
      "text/plain": [
       "148"
      ]
     },
     "execution_count": 11,
     "metadata": {},
     "output_type": "execute_result"
    }
   ],
   "source": [
    "#coords_subset.show(3,truncate=False)\n",
    "coords_subset.count()"
   ]
  },
  {
   "cell_type": "code",
   "execution_count": 37,
   "metadata": {
    "collapsed": false
   },
   "outputs": [],
   "source": [
    "coords_subset.coalesce(1).write.csv('/coords_subset',header = True)\n"
   ]
  },
  {
   "cell_type": "markdown",
   "metadata": {},
   "source": [
    "# Machine Learning (coordinates clustering)"
   ]
  },
  {
   "cell_type": "markdown",
   "metadata": {},
   "source": [
    "## Load subset of data with only features needed(lat-lon)"
   ]
  },
  {
   "cell_type": "code",
   "execution_count": 13,
   "metadata": {
    "collapsed": true
   },
   "outputs": [],
   "source": [
    "coords_subset_2 = spark.read.csv('/coords_subset/*.csv',header=True).mode(\"overwrite\")"
   ]
  },
  {
   "cell_type": "code",
   "execution_count": 14,
   "metadata": {
    "collapsed": false,
    "scrolled": true
   },
   "outputs": [
    {
     "name": "stdout",
     "output_type": "stream",
     "text": [
      "+-----+----------+----------+\n",
      "|   id|  latitude| longitude|\n",
      "+-----+----------+----------+\n",
      "|122.0|-27.482279|153.028723|\n",
      "+-----+----------+----------+\n",
      "only showing top 1 row\n",
      "\n"
     ]
    }
   ],
   "source": [
    "coords_subset_2.show(1)"
   ]
  },
  {
   "cell_type": "markdown",
   "metadata": {},
   "source": [
    "## Cast string values to float "
   ]
  },
  {
   "cell_type": "code",
   "execution_count": 15,
   "metadata": {
    "collapsed": true
   },
   "outputs": [],
   "source": [
    "coords_subset_2=coords_subset_2.withColumn(\"latitude\", coords_subset_2.latitude.cast(FloatType()))\n",
    "coords_subset_2=coords_subset_2.withColumn(\"longitude\", coords_subset_2.longitude.cast(FloatType()))\n",
    "coords_subset_2=coords_subset_2.withColumn(\"id\", coords_subset_2.id.cast(FloatType()))\n",
    "coords_subset_2=coords_subset_2.where(coords_subset_2.latitude.isNotNull()).where(coords_subset_2.longitude.isNotNull())"
   ]
  },
  {
   "cell_type": "markdown",
   "metadata": {},
   "source": [
    "## Create features column"
   ]
  },
  {
   "cell_type": "code",
   "execution_count": 16,
   "metadata": {
    "collapsed": false,
    "scrolled": false
   },
   "outputs": [
    {
     "name": "stdout",
     "output_type": "stream",
     "text": [
      "+-----+----------+---------+--------------------+\n",
      "|   id|  latitude|longitude|            features|\n",
      "+-----+----------+---------+--------------------+\n",
      "|122.0|-27.482279|153.02872|[-27.482278823852...|\n",
      "| 91.0| -27.47059|153.03604|[-27.470590591430...|\n",
      "| 75.0|-27.461882|153.04698|[-27.461881637573...|\n",
      "+-----+----------+---------+--------------------+\n",
      "only showing top 3 rows\n",
      "\n"
     ]
    }
   ],
   "source": [
    "vecAssembler = VectorAssembler(inputCols=[\"latitude\", \"longitude\"], outputCol=\"features\")\n",
    "data_with_features = vecAssembler.transform(coords_subset_2)\n",
    "data_with_features.show(3)"
   ]
  },
  {
   "cell_type": "markdown",
   "metadata": {},
   "source": [
    "## Fit KMEANS model (5 clusters) "
   ]
  },
  {
   "cell_type": "code",
   "execution_count": 17,
   "metadata": {
    "collapsed": false
   },
   "outputs": [],
   "source": [
    "kmeans = KMeans(k=5,seed=1)  # 2 clusters KMeans(k=2, maxIter=10, seed=1)\n",
    "model = kmeans.fit(data_with_features.select('features'))\n",
    "#kmeans.train"
   ]
  },
  {
   "cell_type": "markdown",
   "metadata": {},
   "source": [
    "## Show prediction"
   ]
  },
  {
   "cell_type": "code",
   "execution_count": 18,
   "metadata": {
    "collapsed": false,
    "scrolled": true
   },
   "outputs": [
    {
     "name": "stdout",
     "output_type": "stream",
     "text": [
      "+-----+----------+---------+--------------------+----------+\n",
      "|   id|  latitude|longitude|            features|prediction|\n",
      "+-----+----------+---------+--------------------+----------+\n",
      "|122.0|-27.482279|153.02872|[-27.482278823852...|         1|\n",
      "| 91.0| -27.47059|153.03604|[-27.470590591430...|         4|\n",
      "| 75.0|-27.461882|153.04698|[-27.461881637573...|         2|\n",
      "| 99.0|-27.469658| 153.0167|[-27.469657897949...|         1|\n",
      "|109.0| -27.48172|153.00436|[-27.481719970703...|         3|\n",
      "|149.0|-27.493626|153.00148|[-27.493625640869...|         3|\n",
      "|139.0|-27.476076|153.00246|[-27.476076126098...|         3|\n",
      "| 24.0|-27.493963|153.01193|[-27.493963241577...|         0|\n",
      "|117.0|-27.482197|153.02089|[-27.482196807861...|         1|\n",
      "| 73.0|-27.465225|153.05086|[-27.465225219726...|         4|\n",
      "+-----+----------+---------+--------------------+----------+\n",
      "only showing top 10 rows\n",
      "\n"
     ]
    }
   ],
   "source": [
    "transformed = model.transform(data_with_features)\n",
    "transformed.show(10) "
   ]
  },
  {
   "cell_type": "markdown",
   "metadata": {},
   "source": [
    "## Save prediction"
   ]
  },
  {
   "cell_type": "code",
   "execution_count": null,
   "metadata": {
    "collapsed": false
   },
   "outputs": [],
   "source": [
    "transformed.coalesce(1).write.format(\"json\").save(\"/transformed\")"
   ]
  },
  {
   "cell_type": "code",
   "execution_count": 29,
   "metadata": {
    "collapsed": true
   },
   "outputs": [],
   "source": [
    "#pd_data = transformed.select(transformed.id,transformed.latitude,transformed.longitude,transformed.prediction).toPandas().set_index('id')"
   ]
  },
  {
   "cell_type": "code",
   "execution_count": null,
   "metadata": {
    "collapsed": true
   },
   "outputs": [],
   "source": []
  }
 ],
 "metadata": {
  "kernelspec": {
   "display_name": "Python 3",
   "language": "python",
   "name": "python3"
  },
  "language_info": {
   "codemirror_mode": {
    "name": "ipython",
    "version": 3
   },
   "file_extension": ".py",
   "mimetype": "text/x-python",
   "name": "python",
   "nbconvert_exporter": "python",
   "pygments_lexer": "ipython3",
   "version": "3.6.0"
  }
 },
 "nbformat": 4,
 "nbformat_minor": 2
}
