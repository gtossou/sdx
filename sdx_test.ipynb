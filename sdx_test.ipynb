{
 "cells": [
  {
   "cell_type": "code",
   "execution_count": 1,
   "metadata": {
    "collapsed": false
   },
   "outputs": [],
   "source": [
    "import findspark\n",
    "import pandas as pd\n",
    "findspark.init(\"/opt/spark-2.4.0\")\n",
    "from pyspark.sql.functions import *\n",
    "from pyspark.ml.clustering import KMeans\n",
    "from pyspark.ml.feature import VectorAssembler\n",
    "from pyspark.sql.types import FloatType"
   ]
  },
  {
   "cell_type": "code",
   "execution_count": 2,
   "metadata": {
    "collapsed": false
   },
   "outputs": [],
   "source": [
    "from pyspark.sql import SparkSession\n",
    "spark = SparkSession \\\n",
    "    .builder \\\n",
    "    .appName(\"example_sdx\") \\\n",
    "    .getOrCreate()"
   ]
  },
  {
   "cell_type": "code",
   "execution_count": 3,
   "metadata": {
    "collapsed": false,
    "scrolled": true
   },
   "outputs": [
    {
     "data": {
      "text/html": [
       "\n",
       "            <div>\n",
       "                <p><b>SparkSession - in-memory</b></p>\n",
       "                \n",
       "        <div>\n",
       "            <p><b>SparkContext</b></p>\n",
       "\n",
       "            <p><a href=\"http://vps621558.ovh.net:4040\">Spark UI</a></p>\n",
       "\n",
       "            <dl>\n",
       "              <dt>Version</dt>\n",
       "                <dd><code>v2.4.0</code></dd>\n",
       "              <dt>Master</dt>\n",
       "                <dd><code>local[*]</code></dd>\n",
       "              <dt>AppName</dt>\n",
       "                <dd><code>example_sdx</code></dd>\n",
       "            </dl>\n",
       "        </div>\n",
       "        \n",
       "            </div>\n",
       "        "
      ],
      "text/plain": [
       "<pyspark.sql.session.SparkSession at 0x7fc1b69dae10>"
      ]
     },
     "execution_count": 3,
     "metadata": {},
     "output_type": "execute_result"
    }
   ],
   "source": [
    "spark"
   ]
  },
  {
   "cell_type": "code",
   "execution_count": 4,
   "metadata": {
    "collapsed": true
   },
   "outputs": [],
   "source": [
    "brisbane = spark.read.option(\"multiline\", \"true\").json(\"/Brisbane_CityBike.json\")"
   ]
  },
  {
   "cell_type": "code",
   "execution_count": 5,
   "metadata": {
    "collapsed": false,
    "scrolled": true
   },
   "outputs": [
    {
     "name": "stdout",
     "output_type": "stream",
     "text": [
      "root\n",
      " |-- address: string (nullable = true)\n",
      " |-- coordinates: struct (nullable = true)\n",
      " |    |-- latitude: double (nullable = true)\n",
      " |    |-- longitude: double (nullable = true)\n",
      " |-- id: double (nullable = true)\n",
      " |-- latitude: string (nullable = true)\n",
      " |-- longitude: string (nullable = true)\n",
      " |-- name: string (nullable = true)\n",
      " |-- position: string (nullable = true)\n",
      "\n"
     ]
    }
   ],
   "source": [
    "brisbane.printSchema()"
   ]
  },
  {
   "cell_type": "code",
   "execution_count": 6,
   "metadata": {
    "collapsed": false,
    "scrolled": true
   },
   "outputs": [
    {
     "data": {
      "text/plain": [
       "150"
      ]
     },
     "execution_count": 6,
     "metadata": {},
     "output_type": "execute_result"
    }
   ],
   "source": [
    "brisbane.count()"
   ]
  },
  {
   "cell_type": "code",
   "execution_count": 7,
   "metadata": {
    "collapsed": false,
    "scrolled": true
   },
   "outputs": [
    {
     "name": "stdout",
     "output_type": "stream",
     "text": [
      "+--------------------+--------------------+----+----------+---------+--------------------+--------+\n",
      "|             address|         coordinates|  id|  latitude|longitude|                name|position|\n",
      "+--------------------+--------------------+----+----------+---------+--------------------+--------+\n",
      "|Albert St Mall / ...|                null|12.0|-27.468963|153.02461|12 - ALBERT ST MA...|    null|\n",
      "|Gardens Point Rd ...|[-27.479004, 153....|19.0|      null|     null|19 - GARDENS POIN...|    null|\n",
      "+--------------------+--------------------+----+----------+---------+--------------------+--------+\n",
      "\n"
     ]
    }
   ],
   "source": [
    "brisbane.where(brisbane.id.isin([19,12])).show()"
   ]
  },
  {
   "cell_type": "code",
   "execution_count": 8,
   "metadata": {
    "collapsed": false
   },
   "outputs": [],
   "source": [
    "brisbane=brisbane.withColumn(\"latitude\", when(brisbane.latitude.isNull(),brisbane.coordinates.latitude) \\\n",
    "    .otherwise(brisbane.latitude)) \\\n",
    "    .withColumn(\"longitude\", when(brisbane.longitude.isNull(),brisbane.coordinates.longitude) \\\n",
    "    .otherwise(brisbane.longitude))\n",
    "            "
   ]
  },
  {
   "cell_type": "code",
   "execution_count": 9,
   "metadata": {
    "collapsed": false,
    "scrolled": true
   },
   "outputs": [
    {
     "name": "stdout",
     "output_type": "stream",
     "text": [
      "+--------------------+--------------------+----+----------+----------+--------------------+--------+\n",
      "|             address|         coordinates|  id|  latitude| longitude|                name|position|\n",
      "+--------------------+--------------------+----+----------+----------+--------------------+--------+\n",
      "|Albert St Mall / ...|                null|12.0|-27.468963| 153.02461|12 - ALBERT ST MA...|    null|\n",
      "|Gardens Point Rd ...|[-27.479004, 153....|19.0|-27.479004|153.028853|19 - GARDENS POIN...|    null|\n",
      "+--------------------+--------------------+----+----------+----------+--------------------+--------+\n",
      "\n"
     ]
    }
   ],
   "source": [
    "brisbane.where(brisbane.id.isin([19,12])).show()"
   ]
  },
  {
   "cell_type": "code",
   "execution_count": 10,
   "metadata": {
    "collapsed": false
   },
   "outputs": [],
   "source": [
    "coords_subset=brisbane.where(brisbane.latitude.isNotNull()).where(brisbane.longitude.isNotNull()).select(brisbane.id,brisbane.latitude,brisbane.longitude)"
   ]
  },
  {
   "cell_type": "code",
   "execution_count": 11,
   "metadata": {
    "collapsed": false
   },
   "outputs": [
    {
     "data": {
      "text/plain": [
       "148"
      ]
     },
     "execution_count": 11,
     "metadata": {},
     "output_type": "execute_result"
    }
   ],
   "source": [
    "#coords_subset.show(3,truncate=False)\n",
    "coords_subset.count()"
   ]
  },
  {
   "cell_type": "code",
   "execution_count": 37,
   "metadata": {
    "collapsed": false
   },
   "outputs": [],
   "source": [
    "coords_subset.coalesce(1).write.csv('/coords_subset',header = True)\n"
   ]
  },
  {
   "cell_type": "code",
   "execution_count": 13,
   "metadata": {
    "collapsed": true
   },
   "outputs": [],
   "source": [
    "coords_subset_2 = spark.read.csv('/coords_subset/*.csv',header=True).mode(\"overwrite\")"
   ]
  },
  {
   "cell_type": "code",
   "execution_count": 14,
   "metadata": {
    "collapsed": false
   },
   "outputs": [
    {
     "name": "stdout",
     "output_type": "stream",
     "text": [
      "+-----+----------+----------+\n",
      "|   id|  latitude| longitude|\n",
      "+-----+----------+----------+\n",
      "|122.0|-27.482279|153.028723|\n",
      "+-----+----------+----------+\n",
      "only showing top 1 row\n",
      "\n"
     ]
    }
   ],
   "source": [
    "coords_subset_2.show(1)"
   ]
  },
  {
   "cell_type": "code",
   "execution_count": 15,
   "metadata": {
    "collapsed": true
   },
   "outputs": [],
   "source": [
    "coords_subset_2=coords_subset_2.withColumn(\"latitude\", coords_subset_2.latitude.cast(FloatType()))\n",
    "coords_subset_2=coords_subset_2.withColumn(\"longitude\", coords_subset_2.longitude.cast(FloatType()))\n",
    "coords_subset_2=coords_subset_2.withColumn(\"id\", coords_subset_2.id.cast(FloatType()))\n",
    "coords_subset_2=coords_subset_2.where(coords_subset_2.latitude.isNotNull()).where(coords_subset_2.longitude.isNotNull())"
   ]
  },
  {
   "cell_type": "code",
   "execution_count": 16,
   "metadata": {
    "collapsed": false,
    "scrolled": true
   },
   "outputs": [
    {
     "name": "stdout",
     "output_type": "stream",
     "text": [
      "+-----+----------+---------+--------------------+\n",
      "|   id|  latitude|longitude|            features|\n",
      "+-----+----------+---------+--------------------+\n",
      "|122.0|-27.482279|153.02872|[-27.482278823852...|\n",
      "| 91.0| -27.47059|153.03604|[-27.470590591430...|\n",
      "| 75.0|-27.461882|153.04698|[-27.461881637573...|\n",
      "+-----+----------+---------+--------------------+\n",
      "only showing top 3 rows\n",
      "\n"
     ]
    }
   ],
   "source": [
    "vecAssembler = VectorAssembler(inputCols=[\"latitude\", \"longitude\"], outputCol=\"features\")\n",
    "data_with_features = vecAssembler.transform(coords_subset_2)\n",
    "data_with_features.show(3)"
   ]
  },
  {
   "cell_type": "code",
   "execution_count": 17,
   "metadata": {
    "collapsed": false
   },
   "outputs": [],
   "source": [
    "kmeans = KMeans(k=5,seed=1)  # 2 clusters KMeans(k=2, maxIter=10, seed=1)\n",
    "model = kmeans.fit(data_with_features.select('features'))\n",
    "#kmeans.train"
   ]
  },
  {
   "cell_type": "code",
   "execution_count": 18,
   "metadata": {
    "collapsed": false
   },
   "outputs": [
    {
     "name": "stdout",
     "output_type": "stream",
     "text": [
      "+-----+----------+---------+--------------------+----------+\n",
      "|   id|  latitude|longitude|            features|prediction|\n",
      "+-----+----------+---------+--------------------+----------+\n",
      "|122.0|-27.482279|153.02872|[-27.482278823852...|         1|\n",
      "| 91.0| -27.47059|153.03604|[-27.470590591430...|         4|\n",
      "| 75.0|-27.461882|153.04698|[-27.461881637573...|         2|\n",
      "| 99.0|-27.469658| 153.0167|[-27.469657897949...|         1|\n",
      "|109.0| -27.48172|153.00436|[-27.481719970703...|         3|\n",
      "|149.0|-27.493626|153.00148|[-27.493625640869...|         3|\n",
      "|139.0|-27.476076|153.00246|[-27.476076126098...|         3|\n",
      "| 24.0|-27.493963|153.01193|[-27.493963241577...|         0|\n",
      "|117.0|-27.482197|153.02089|[-27.482196807861...|         1|\n",
      "| 73.0|-27.465225|153.05086|[-27.465225219726...|         4|\n",
      "+-----+----------+---------+--------------------+----------+\n",
      "only showing top 10 rows\n",
      "\n"
     ]
    }
   ],
   "source": [
    "transformed = model.transform(data_with_features)\n",
    "transformed.show(10) "
   ]
  },
  {
   "cell_type": "code",
   "execution_count": null,
   "metadata": {
    "collapsed": false
   },
   "outputs": [],
   "source": [
    "transformed.coalesce(1).write.format(\"json\").save(\"/transformed\")"
   ]
  },
  {
   "cell_type": "code",
   "execution_count": 29,
   "metadata": {
    "collapsed": true
   },
   "outputs": [],
   "source": [
    "pd_data = transformed.select(transformed.id,transformed.latitude,transformed.longitude,transformed.prediction).toPandas().set_index('id')"
   ]
  },
  {
   "cell_type": "code",
   "execution_count": 36,
   "metadata": {
    "collapsed": false
   },
   "outputs": [
    {
     "data": {
      "text/html": [
       "<div>\n",
       "<table border=\"1\" class=\"dataframe\">\n",
       "  <thead>\n",
       "    <tr style=\"text-align: right;\">\n",
       "      <th></th>\n",
       "      <th>latitude</th>\n",
       "      <th>longitude</th>\n",
       "      <th>prediction</th>\n",
       "    </tr>\n",
       "    <tr>\n",
       "      <th>id</th>\n",
       "      <th></th>\n",
       "      <th></th>\n",
       "      <th></th>\n",
       "    </tr>\n",
       "  </thead>\n",
       "  <tbody>\n",
       "    <tr>\n",
       "      <th>122.0</th>\n",
       "      <td>-27.482279</td>\n",
       "      <td>153.028717</td>\n",
       "      <td>1</td>\n",
       "    </tr>\n",
       "    <tr>\n",
       "      <th>91.0</th>\n",
       "      <td>-27.470591</td>\n",
       "      <td>153.036041</td>\n",
       "      <td>4</td>\n",
       "    </tr>\n",
       "    <tr>\n",
       "      <th>75.0</th>\n",
       "      <td>-27.461882</td>\n",
       "      <td>153.046982</td>\n",
       "      <td>2</td>\n",
       "    </tr>\n",
       "    <tr>\n",
       "      <th>99.0</th>\n",
       "      <td>-27.469658</td>\n",
       "      <td>153.016693</td>\n",
       "      <td>1</td>\n",
       "    </tr>\n",
       "    <tr>\n",
       "      <th>109.0</th>\n",
       "      <td>-27.481720</td>\n",
       "      <td>153.004364</td>\n",
       "      <td>3</td>\n",
       "    </tr>\n",
       "    <tr>\n",
       "      <th>149.0</th>\n",
       "      <td>-27.493626</td>\n",
       "      <td>153.001480</td>\n",
       "      <td>3</td>\n",
       "    </tr>\n",
       "    <tr>\n",
       "      <th>139.0</th>\n",
       "      <td>-27.476076</td>\n",
       "      <td>153.002457</td>\n",
       "      <td>3</td>\n",
       "    </tr>\n",
       "    <tr>\n",
       "      <th>24.0</th>\n",
       "      <td>-27.493963</td>\n",
       "      <td>153.011932</td>\n",
       "      <td>0</td>\n",
       "    </tr>\n",
       "    <tr>\n",
       "      <th>117.0</th>\n",
       "      <td>-27.482197</td>\n",
       "      <td>153.020889</td>\n",
       "      <td>1</td>\n",
       "    </tr>\n",
       "    <tr>\n",
       "      <th>73.0</th>\n",
       "      <td>-27.465225</td>\n",
       "      <td>153.050858</td>\n",
       "      <td>4</td>\n",
       "    </tr>\n",
       "    <tr>\n",
       "      <th>1101.0</th>\n",
       "      <td>-27.468447</td>\n",
       "      <td>153.024658</td>\n",
       "      <td>1</td>\n",
       "    </tr>\n",
       "    <tr>\n",
       "      <th>23.0</th>\n",
       "      <td>-27.473021</td>\n",
       "      <td>153.025986</td>\n",
       "      <td>1</td>\n",
       "    </tr>\n",
       "    <tr>\n",
       "      <th>54.0</th>\n",
       "      <td>-27.457825</td>\n",
       "      <td>153.036865</td>\n",
       "      <td>2</td>\n",
       "    </tr>\n",
       "    <tr>\n",
       "      <th>93.0</th>\n",
       "      <td>-27.481480</td>\n",
       "      <td>153.023682</td>\n",
       "      <td>1</td>\n",
       "    </tr>\n",
       "    <tr>\n",
       "      <th>31.0</th>\n",
       "      <td>-27.467464</td>\n",
       "      <td>153.022095</td>\n",
       "      <td>1</td>\n",
       "    </tr>\n",
       "    <tr>\n",
       "      <th>97.0</th>\n",
       "      <td>-27.499964</td>\n",
       "      <td>153.017639</td>\n",
       "      <td>0</td>\n",
       "    </tr>\n",
       "    <tr>\n",
       "      <th>147.0</th>\n",
       "      <td>-27.490776</td>\n",
       "      <td>152.994751</td>\n",
       "      <td>3</td>\n",
       "    </tr>\n",
       "    <tr>\n",
       "      <th>77.0</th>\n",
       "      <td>-27.458199</td>\n",
       "      <td>153.041687</td>\n",
       "      <td>2</td>\n",
       "    </tr>\n",
       "    <tr>\n",
       "      <th>119.0</th>\n",
       "      <td>-27.481808</td>\n",
       "      <td>153.025482</td>\n",
       "      <td>1</td>\n",
       "    </tr>\n",
       "    <tr>\n",
       "      <th>67.0</th>\n",
       "      <td>-27.452026</td>\n",
       "      <td>153.049103</td>\n",
       "      <td>2</td>\n",
       "    </tr>\n",
       "  </tbody>\n",
       "</table>\n",
       "</div>"
      ],
      "text/plain": [
       "         latitude   longitude  prediction\n",
       "id                                       \n",
       "122.0  -27.482279  153.028717           1\n",
       "91.0   -27.470591  153.036041           4\n",
       "75.0   -27.461882  153.046982           2\n",
       "99.0   -27.469658  153.016693           1\n",
       "109.0  -27.481720  153.004364           3\n",
       "149.0  -27.493626  153.001480           3\n",
       "139.0  -27.476076  153.002457           3\n",
       "24.0   -27.493963  153.011932           0\n",
       "117.0  -27.482197  153.020889           1\n",
       "73.0   -27.465225  153.050858           4\n",
       "1101.0 -27.468447  153.024658           1\n",
       "23.0   -27.473021  153.025986           1\n",
       "54.0   -27.457825  153.036865           2\n",
       "93.0   -27.481480  153.023682           1\n",
       "31.0   -27.467464  153.022095           1\n",
       "97.0   -27.499964  153.017639           0\n",
       "147.0  -27.490776  152.994751           3\n",
       "77.0   -27.458199  153.041687           2\n",
       "119.0  -27.481808  153.025482           1\n",
       "67.0   -27.452026  153.049103           2"
      ]
     },
     "execution_count": 36,
     "metadata": {},
     "output_type": "execute_result"
    }
   ],
   "source": [
    "pd_data.head(20)"
   ]
  },
  {
   "cell_type": "code",
   "execution_count": null,
   "metadata": {
    "collapsed": true
   },
   "outputs": [],
   "source": []
  }
 ],
 "metadata": {
  "kernelspec": {
   "display_name": "Python 3",
   "language": "python",
   "name": "python3"
  },
  "language_info": {
   "codemirror_mode": {
    "name": "ipython",
    "version": 3
   },
   "file_extension": ".py",
   "mimetype": "text/x-python",
   "name": "python",
   "nbconvert_exporter": "python",
   "pygments_lexer": "ipython3",
   "version": "3.6.0"
  }
 },
 "nbformat": 4,
 "nbformat_minor": 2
}
